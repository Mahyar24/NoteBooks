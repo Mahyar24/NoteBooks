{
 "cells": [
  {
   "cell_type": "code",
   "execution_count": null,
   "id": "f798e478-d229-49c5-b5e0-4e611077361e",
   "metadata": {},
   "outputs": [],
   "source": [
    "# import tqdm.notebook as tqdm"
   ]
  },
  {
   "cell_type": "code",
   "execution_count": null,
   "id": "fe1e7bb6-e8e5-4ba9-b9d6-96efcc498db9",
   "metadata": {},
   "outputs": [],
   "source": [
    "import torch\n",
    "import torch.nn as nn\n",
    "import torch.nn.functional as F\n",
    "import pytorch_lightning as pl\n",
    "from torch.utils.data import DataLoader, random_split\n",
    "from torchvision.datasets import MNIST\n",
    "import torchvision.transforms as T\n",
    "from torchmetrics import Accuracy"
   ]
  },
  {
   "cell_type": "code",
   "execution_count": null,
   "id": "798c190b-acc0-4ca6-8e66-f799a32f7905",
   "metadata": {},
   "outputs": [],
   "source": [
    "class ImageVNN(pl.LightningModule):\n",
    "    def __init__(self, image_shape: tuple[int], hidden_layers_n: tuple[int], classes_n: int):\n",
    "        super().__init__()\n",
    "        # PL attributes\n",
    "        self.train_acc = Accuracy()\n",
    "        self.valid_acc = Accuracy()\n",
    "        self.test_acc = Accuracy()\n",
    "        # Model\n",
    "        layers = [nn.Flatten()]\n",
    "        input_size = image_shape[0] * image_shape[1] * image_shape[2] \n",
    "        for n in hidden_layers_n:\n",
    "            layers.append(nn.Sequential(\n",
    "                                nn.Linear(input_size, n), \n",
    "                                nn.LeakyReLU()))\n",
    "            input_size = n\n",
    "        layers.append(nn.Linear(input_size, classes_n))\n",
    "        self.model = nn.Sequential(*layers)\n",
    "        \n",
    "    def forward(self, x, *_, **__):\n",
    "        return self.model(x)\n",
    "    \n",
    "    def training_step(self, batch, *_, **__):\n",
    "        x, y = batch\n",
    "        outputs = self(x)\n",
    "        loss = F.cross_entropy(outputs, y)\n",
    "        predictions = outputs.argmax(axis=1)\n",
    "        self.train_acc.update(predictions, y)\n",
    "        self.log(\"train_loss\", loss, prog_bar=True)\n",
    "        return loss\n",
    "    \n",
    "    def training_epoch_end(self, *_, **__):\n",
    "        self.log(\"train_acc\", self.train_acc.compute())\n",
    "        \n",
    "    def validation_step(self, batch, *_, **__):\n",
    "        x, y = batch\n",
    "        outputs = self(x)\n",
    "        loss = F.cross_entropy(outputs, y)\n",
    "        predictions = outputs.argmax(axis=1)\n",
    "        self.valid_acc.update(predictions, y)\n",
    "        self.log(\"validation_loss\", loss, prog_bar=True)\n",
    "        return loss\n",
    "    \n",
    "    def validation_epoch_end(self, outs, *_, **__):\n",
    "        self.log(\"valididation_acc\", self.valid_acc.compute())\n",
    "        \n",
    "    def test_step(self, batch, *_, **__):\n",
    "        x, y = batch\n",
    "        outputs = self(x)\n",
    "        loss = F.cross_entropy(outputs, y)\n",
    "        predictions = outputs.argmax(axis=1)\n",
    "        self.test_acc.update(predictions, y)\n",
    "        self.log(\"test_loss\", loss, prog_bar=True)\n",
    "        return loss\n",
    "    \n",
    "    def test_epoch_end(self, *_, **__):\n",
    "        self.log(\"test_acc\", self.test_acc.compute())\n",
    "        \n",
    "    def configure_optimizers(self):\n",
    "        optimizer = torch.optim.AdamW(self.parameters(), lr=0.01)\n",
    "        return [optimizer], []"
   ]
  },
  {
   "cell_type": "code",
   "execution_count": 16,
   "id": "1fc1314c-855b-4b5f-9a29-7f924e775610",
   "metadata": {},
   "outputs": [],
   "source": [
    "class MNISTDataModule(pl.LightningDataModule):\n",
    "    def __init__(self, path='./mnist', download=True, batch_size=265):\n",
    "        super().__init__()\n",
    "        self.path = path\n",
    "        self.download = download\n",
    "        self.batch_size = batch_size\n",
    "        self.transformer = T.Compose([T.ToTensor()])\n",
    "        \n",
    "    def prepare_data(self):\n",
    "        MNIST(root=self.path, download=self.download)\n",
    "        \n",
    "    def setup(self, *_, **__):\n",
    "        train_val_data = MNIST(root=self.path, train=True, transform=self.transformer)\n",
    "        self.train_data, self.val_data = random_split(train_val_data, [55_000, 5_000])\n",
    "        self.test_data = MNIST(root=self.path, train=False, transform=self.transformer)\n",
    "    \n",
    "    def train_dataloader(self):\n",
    "        return DataLoader(self.train_data, batch_size=self.batch_size, num_workers=8)\n",
    "    \n",
    "    def val_dataloader(self):\n",
    "        return DataLoader(self.val_data, batch_size=self.batch_size, num_workers=8)\n",
    "    \n",
    "    def test_dataloader(self):\n",
    "        return DataLoader(self.test_data, batch_size=self.batch_size, num_workers=8)"
   ]
  },
  {
   "cell_type": "code",
   "execution_count": null,
   "id": "5048a488-04b4-470d-80c1-7600c3427244",
   "metadata": {},
   "outputs": [],
   "source": [
    "model = ImageVNN((1, 28, 28), (32, 16), 10)\n",
    "trainer = pl.Trainer(max_epochs=10)\n",
    "data_model = MNISTDataModule(download=False)"
   ]
  },
  {
   "cell_type": "code",
   "execution_count": null,
   "id": "9a30b195-6e85-4f0a-9851-58f1cc3ab39f",
   "metadata": {},
   "outputs": [],
   "source": [
    "trainer.fit(model, data_model);"
   ]
  },
  {
   "cell_type": "code",
   "execution_count": 17,
   "id": "9b98688f-d559-4dc1-b068-50a23cf79860",
   "metadata": {},
   "outputs": [
    {
     "data": {
      "application/vnd.jupyter.widget-view+json": {
       "model_id": "ecdee20aa8f74a269a3665863bb3cfed",
       "version_major": 2,
       "version_minor": 0
      },
      "text/plain": [
       "Testing: 0it [00:00, ?it/s]"
      ]
     },
     "metadata": {},
     "output_type": "display_data"
    },
    {
     "data": {
      "text/html": [
       "<pre style=\"white-space:pre;overflow-x:auto;line-height:normal;font-family:Menlo,'DejaVu Sans Mono',consolas,'Courier New',monospace\">┏━━━━━━━━━━━━━━━━━━━━━━━━━━━┳━━━━━━━━━━━━━━━━━━━━━━━━━━━┓\n",
       "┃<span style=\"font-weight: bold\">        Test metric        </span>┃<span style=\"font-weight: bold\">       DataLoader 0        </span>┃\n",
       "┡━━━━━━━━━━━━━━━━━━━━━━━━━━━╇━━━━━━━━━━━━━━━━━━━━━━━━━━━┩\n",
       "│<span style=\"color: #008080; text-decoration-color: #008080\">         test_acc          </span>│<span style=\"color: #800080; text-decoration-color: #800080\">    0.9670000076293945     </span>│\n",
       "│<span style=\"color: #008080; text-decoration-color: #008080\">         test_loss         </span>│<span style=\"color: #800080; text-decoration-color: #800080\">    0.13443806767463684    </span>│\n",
       "└───────────────────────────┴───────────────────────────┘\n",
       "</pre>\n"
      ],
      "text/plain": [
       "┏━━━━━━━━━━━━━━━━━━━━━━━━━━━┳━━━━━━━━━━━━━━━━━━━━━━━━━━━┓\n",
       "┃\u001b[1m \u001b[0m\u001b[1m       Test metric       \u001b[0m\u001b[1m \u001b[0m┃\u001b[1m \u001b[0m\u001b[1m      DataLoader 0       \u001b[0m\u001b[1m \u001b[0m┃\n",
       "┡━━━━━━━━━━━━━━━━━━━━━━━━━━━╇━━━━━━━━━━━━━━━━━━━━━━━━━━━┩\n",
       "│\u001b[36m \u001b[0m\u001b[36m        test_acc         \u001b[0m\u001b[36m \u001b[0m│\u001b[35m \u001b[0m\u001b[35m   0.9670000076293945    \u001b[0m\u001b[35m \u001b[0m│\n",
       "│\u001b[36m \u001b[0m\u001b[36m        test_loss        \u001b[0m\u001b[36m \u001b[0m│\u001b[35m \u001b[0m\u001b[35m   0.13443806767463684   \u001b[0m\u001b[35m \u001b[0m│\n",
       "└───────────────────────────┴───────────────────────────┘\n"
      ]
     },
     "metadata": {},
     "output_type": "display_data"
    },
    {
     "data": {
      "text/plain": [
       "[{'test_loss': 0.13443806767463684, 'test_acc': 0.9670000076293945}]"
      ]
     },
     "execution_count": 17,
     "metadata": {},
     "output_type": "execute_result"
    }
   ],
   "source": [
    "trainer.test(model, MNISTDataModule(download=False))"
   ]
  },
  {
   "cell_type": "code",
   "execution_count": null,
   "id": "cf48cc46-1de3-421f-811e-b8d694e53319",
   "metadata": {},
   "outputs": [],
   "source": []
  }
 ],
 "metadata": {
  "kernelspec": {
   "display_name": "Python 3",
   "language": "python",
   "name": "python3"
  },
  "language_info": {
   "codemirror_mode": {
    "name": "ipython",
    "version": 3
   },
   "file_extension": ".py",
   "mimetype": "text/x-python",
   "name": "python",
   "nbconvert_exporter": "python",
   "pygments_lexer": "ipython3",
   "version": "3.10.4"
  }
 },
 "nbformat": 4,
 "nbformat_minor": 5
}
