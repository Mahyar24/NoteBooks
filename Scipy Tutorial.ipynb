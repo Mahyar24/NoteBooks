{
 "cells": [
  {
   "cell_type": "code",
   "execution_count": 1,
   "id": "5c3b1d3f-d47d-47be-a809-da261392aa40",
   "metadata": {},
   "outputs": [],
   "source": [
    "import math\n",
    "import statistics\n",
    "\n",
    "import numpy as np\n",
    "import pandas as pd\n",
    "import matplotlib.pyplot as plt\n",
    "import seaborn as sns\n",
    "\n",
    "from skimpy import skim"
   ]
  },
  {
   "cell_type": "code",
   "execution_count": 2,
   "id": "9490a90b-4ec7-4569-b37a-358b1179727c",
   "metadata": {},
   "outputs": [],
   "source": [
    "import scipy as sp\n",
    "from scipy.optimize import minimize"
   ]
  },
  {
   "cell_type": "code",
   "execution_count": 8,
   "id": "e6580fc1-63cc-4820-9e1c-f5dcecb12dea",
   "metadata": {},
   "outputs": [
    {
     "data": {
      "text/plain": [
       "array([[1., 0., 0.],\n",
       "       [0., 1., 0.],\n",
       "       [0., 0., 1.]])"
      ]
     },
     "execution_count": 8,
     "metadata": {},
     "output_type": "execute_result"
    }
   ],
   "source": [
    "np.identity(3)"
   ]
  },
  {
   "cell_type": "code",
   "execution_count": 9,
   "id": "e58efc60-d36b-42aa-837e-151ee033c1a4",
   "metadata": {},
   "outputs": [],
   "source": [
    "f = np.array([1, 2, 4, 7, 11, 16], dtype=float)"
   ]
  },
  {
   "cell_type": "code",
   "execution_count": 12,
   "id": "b9899e6c-0fb9-441c-a83e-58bfbde411ce",
   "metadata": {},
   "outputs": [
    {
     "data": {
      "text/plain": [
       "array([1., 1., 1., 1.])"
      ]
     },
     "execution_count": 12,
     "metadata": {},
     "output_type": "execute_result"
    }
   ],
   "source": [
    "np.diff(np.diff(f))"
   ]
  },
  {
   "cell_type": "code",
   "execution_count": 4,
   "id": "c8427aec-7dbf-4076-86bb-fc2f23a12631",
   "metadata": {},
   "outputs": [],
   "source": [
    "from datetime import datetime"
   ]
  },
  {
   "cell_type": "code",
   "execution_count": 7,
   "id": "e82f51c9-239c-4a0d-b74e-687c6c8e9cdf",
   "metadata": {},
   "outputs": [],
   "source": [
    "delta = datetime(2022, 10, 11) - datetime.today()"
   ]
  },
  {
   "cell_type": "code",
   "execution_count": 16,
   "id": "bd4d7f0a-0e7e-4f7f-9b25-a3e6903a09d2",
   "metadata": {},
   "outputs": [],
   "source": [
    "import time"
   ]
  },
  {
   "cell_type": "code",
   "execution_count": 23,
   "id": "e055cd04-c2f3-417c-90d3-7345d07fe866",
   "metadata": {},
   "outputs": [],
   "source": [
    "def pretty_time(sec):\n",
    "    res = \"\"\n",
    "    days, remainder = divmod(sec, 86_400)  # 24 * 60 * 60 = 86,400\n",
    "    if days > 0:\n",
    "        res = f\"{int(days)} day, \"\n",
    "    return res + time.strftime(\"%H:%M:%S\", time.gmtime(remainder))"
   ]
  },
  {
   "cell_type": "code",
   "execution_count": 24,
   "id": "66a0c014-255b-4bab-93d9-1a356d85f9b6",
   "metadata": {},
   "outputs": [
    {
     "data": {
      "text/plain": [
       "'93 day, 04:58:41'"
      ]
     },
     "execution_count": 24,
     "metadata": {},
     "output_type": "execute_result"
    }
   ],
   "source": [
    "pretty_time(delta.total_seconds())"
   ]
  },
  {
   "cell_type": "code",
   "execution_count": 26,
   "id": "cf931b3f-0a6c-4d6b-b5ce-855a888e0a67",
   "metadata": {},
   "outputs": [
    {
     "name": "stdout",
     "output_type": "stream",
     "text": [
      "93 day, 04:46:38\n",
      "93 day, 04:46:37\n",
      "93 day, 04:46:36\n",
      "93 day, 04:46:35\n",
      "93 day, 04:46:34\n",
      "93 day, 04:46:33\n",
      "93 day, 04:46:32\n",
      "93 day, 04:46:31\n",
      "93 day, 04:46:30\n",
      "93 day, 04:46:29\n",
      "93 day, 04:46:28\n",
      "93 day, 04:46:27\n",
      "93 day, 04:46:26\n",
      "93 day, 04:46:25\n"
     ]
    },
    {
     "ename": "KeyboardInterrupt",
     "evalue": "",
     "output_type": "error",
     "traceback": [
      "\u001b[0;31m---------------------------------------------------------------------------\u001b[0m",
      "\u001b[0;31mKeyboardInterrupt\u001b[0m                         Traceback (most recent call last)",
      "Input \u001b[0;32mIn [26]\u001b[0m, in \u001b[0;36m<module>\u001b[0;34m\u001b[0m\n\u001b[1;32m      3\u001b[0m delta \u001b[38;5;241m=\u001b[39m (end_date \u001b[38;5;241m-\u001b[39m datetime\u001b[38;5;241m.\u001b[39mnow())\u001b[38;5;241m.\u001b[39mtotal_seconds()\n\u001b[1;32m      4\u001b[0m \u001b[38;5;28mprint\u001b[39m(pretty_time(delta))\n\u001b[0;32m----> 5\u001b[0m \u001b[43mtime\u001b[49m\u001b[38;5;241;43m.\u001b[39;49m\u001b[43msleep\u001b[49m\u001b[43m(\u001b[49m\u001b[38;5;241;43m1\u001b[39;49m\u001b[43m)\u001b[49m\n",
      "\u001b[0;31mKeyboardInterrupt\u001b[0m: "
     ]
    }
   ],
   "source": [
    "end_date = datetime(2022, 10, 11)\n",
    "while True:\n",
    "    delta = (end_date - datetime.now()).total_seconds()\n",
    "    print(pretty_time(delta))\n",
    "    time.sleep(1)\n",
    "    "
   ]
  },
  {
   "cell_type": "code",
   "execution_count": 2,
   "id": "2a56e269-27aa-4cfe-a186-e4d6d180de2c",
   "metadata": {},
   "outputs": [],
   "source": [
    "import numpy as np\n",
    "from sklearn.datasets import load_digits\n",
    "from sklearn.model_selection import train_test_split"
   ]
  },
  {
   "cell_type": "code",
   "execution_count": 5,
   "id": "9bdf0f76-9a9c-4094-89f5-84e344d723d4",
   "metadata": {},
   "outputs": [],
   "source": [
    "df = load_digits()"
   ]
  },
  {
   "cell_type": "code",
   "execution_count": 13,
   "id": "e0a38bd7-8da5-49c7-a98f-db87cffa17b1",
   "metadata": {},
   "outputs": [],
   "source": [
    "X_train, X_test, y_train, y_test = train_test_split(df.data, df.target, test_size=0.2)"
   ]
  },
  {
   "cell_type": "code",
   "execution_count": 18,
   "id": "2060e71d-21fc-40a4-b944-ebc8ebbca05e",
   "metadata": {},
   "outputs": [],
   "source": [
    "X_train = np.load('/tmp/test/X_train.npy')\n",
    "X_test = np.load('/tmp/test/X_test.npy')\n",
    "y_train = np.load('/tmp/test/y_train.npy')\n",
    "y_test = np.load('/tmp/test/y_test.npy')"
   ]
  },
  {
   "cell_type": "code",
   "execution_count": null,
   "id": "68208fec-d6a3-429c-adec-fd1cd7628a46",
   "metadata": {},
   "outputs": [],
   "source": [
    "np.load('')"
   ]
  }
 ],
 "metadata": {
  "kernelspec": {
   "display_name": "Python 3",
   "language": "python",
   "name": "python3"
  },
  "language_info": {
   "codemirror_mode": {
    "name": "ipython",
    "version": 3
   },
   "file_extension": ".py",
   "mimetype": "text/x-python",
   "name": "python",
   "nbconvert_exporter": "python",
   "pygments_lexer": "ipython3",
   "version": "3.10.5"
  }
 },
 "nbformat": 4,
 "nbformat_minor": 5
}
