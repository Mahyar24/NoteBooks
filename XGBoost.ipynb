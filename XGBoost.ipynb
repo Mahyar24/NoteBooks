{
 "cells": [
  {
   "cell_type": "code",
   "execution_count": 1,
   "id": "1f308d44-9e07-418f-9514-d406101ce9fe",
   "metadata": {},
   "outputs": [],
   "source": [
    "import numpy as np\n",
    "import pandas as pd\n",
    "\n",
    "from skimpy import skim"
   ]
  },
  {
   "cell_type": "code",
   "execution_count": 2,
   "id": "24eeecd0-77ec-44a4-bf0a-ff74aaca2549",
   "metadata": {},
   "outputs": [],
   "source": [
    "from sklearn.model_selection import RandomizedSearchCV, StratifiedKFold, train_test_split\n",
    "from sklearn.preprocessing import StandardScaler, OneHotEncoder\n",
    "from sklearn.compose import ColumnTransformer\n",
    "from sklearn.metrics import accuracy_score, f1_score, roc_auc_score"
   ]
  },
  {
   "cell_type": "code",
   "execution_count": 3,
   "id": "2b104c9f-3652-4083-93b6-95699c1710e9",
   "metadata": {},
   "outputs": [],
   "source": [
    "from xgboost import XGBClassifier"
   ]
  },
  {
   "cell_type": "code",
   "execution_count": 4,
   "id": "b1caa511-23aa-4651-b5e0-347e9a11749e",
   "metadata": {},
   "outputs": [],
   "source": [
    "N_JOBS = -1"
   ]
  },
  {
   "cell_type": "code",
   "execution_count": 5,
   "id": "e6e501f6-1b31-4b88-b74e-36fd497bceae",
   "metadata": {},
   "outputs": [],
   "source": [
    "df = pd.read_csv('XGBoost_Book/Chapter06/heart_disease.csv')"
   ]
  },
  {
   "cell_type": "code",
   "execution_count": 6,
   "id": "c91c76bd-3d94-4c9a-9c94-1c1031e96d25",
   "metadata": {},
   "outputs": [
    {
     "data": {
      "text/html": [
       "<pre style=\"white-space:pre;overflow-x:auto;line-height:normal;font-family:Menlo,'DejaVu Sans Mono',consolas,'Courier New',monospace\">╭───────────────────────────────────── skimpy summary ──────────────────────────────────────╮\n",
       "│ <span style=\"font-style: italic\">         Data Summary         </span> <span style=\"font-style: italic\">      Data Types       </span>                                    │\n",
       "│ ┏━━━━━━━━━━━━━━━━━━━┳━━━━━━━━┓ ┏━━━━━━━━━━━━━┳━━━━━━━┓                                    │\n",
       "│ ┃<span style=\"color: #008080; text-decoration-color: #008080; font-weight: bold\"> dataframe         </span>┃<span style=\"color: #008080; text-decoration-color: #008080; font-weight: bold\"> Values </span>┃ ┃<span style=\"color: #008080; text-decoration-color: #008080; font-weight: bold\"> Column Type </span>┃<span style=\"color: #008080; text-decoration-color: #008080; font-weight: bold\"> Count </span>┃                                    │\n",
       "│ ┡━━━━━━━━━━━━━━━━━━━╇━━━━━━━━┩ ┡━━━━━━━━━━━━━╇━━━━━━━┩                                    │\n",
       "│ │ Number of rows    │ 303    │ │ int64       │ 13    │                                    │\n",
       "│ │ Number of columns │ 14     │ │ float64     │ 1     │                                    │\n",
       "│ └───────────────────┴────────┘ └─────────────┴───────┘                                    │\n",
       "│ <span style=\"font-style: italic\">                                         number                                         </span>  │\n",
       "│ ┏━━━━━━━━━━━┳━━━━━━━━━━┳━━━━━━━━━━━━━━━┳━━━━━━┳━━━━━━┳━━━━━┳━━━━━┳━━━━━┳━━━━━━┳━━━━━━━━┓  │\n",
       "│ ┃<span style=\"font-weight: bold\">           </span>┃<span style=\"font-weight: bold\"> missing  </span>┃<span style=\"font-weight: bold\"> complete rate </span>┃<span style=\"font-weight: bold\"> mean </span>┃<span style=\"font-weight: bold\"> sd   </span>┃<span style=\"font-weight: bold\"> p0  </span>┃<span style=\"font-weight: bold\"> p25 </span>┃<span style=\"font-weight: bold\"> p75 </span>┃<span style=\"font-weight: bold\"> p100 </span>┃<span style=\"font-weight: bold\"> hist   </span>┃  │\n",
       "│ ┡━━━━━━━━━━━╇━━━━━━━━━━╇━━━━━━━━━━━━━━━╇━━━━━━╇━━━━━━╇━━━━━╇━━━━━╇━━━━━╇━━━━━━╇━━━━━━━━┩  │\n",
       "│ │ <span style=\"color: #af87ff; text-decoration-color: #af87ff\">age      </span> │ <span style=\"color: #008080; text-decoration-color: #008080\">       0</span> │ <span style=\"color: #008080; text-decoration-color: #008080\">            1</span> │ <span style=\"color: #008080; text-decoration-color: #008080\">  54</span> │ <span style=\"color: #008080; text-decoration-color: #008080\"> 9.1</span> │ <span style=\"color: #008080; text-decoration-color: #008080\"> 29</span> │ <span style=\"color: #008080; text-decoration-color: #008080\"> 48</span> │ <span style=\"color: #008080; text-decoration-color: #008080\"> 61</span> │ <span style=\"color: #008080; text-decoration-color: #008080\">  77</span> │ <span style=\"color: #008000; text-decoration-color: #008000\">▁▄▅█▅▁</span> │  │\n",
       "│ │ <span style=\"color: #af87ff; text-decoration-color: #af87ff\">sex      </span> │ <span style=\"color: #008080; text-decoration-color: #008080\">       0</span> │ <span style=\"color: #008080; text-decoration-color: #008080\">            1</span> │ <span style=\"color: #008080; text-decoration-color: #008080\">0.68</span> │ <span style=\"color: #008080; text-decoration-color: #008080\">0.47</span> │ <span style=\"color: #008080; text-decoration-color: #008080\">  0</span> │ <span style=\"color: #008080; text-decoration-color: #008080\">  0</span> │ <span style=\"color: #008080; text-decoration-color: #008080\">  1</span> │ <span style=\"color: #008080; text-decoration-color: #008080\">   1</span> │ <span style=\"color: #008000; text-decoration-color: #008000\">▄    █</span> │  │\n",
       "│ │ <span style=\"color: #af87ff; text-decoration-color: #af87ff\">cp       </span> │ <span style=\"color: #008080; text-decoration-color: #008080\">       0</span> │ <span style=\"color: #008080; text-decoration-color: #008080\">            1</span> │ <span style=\"color: #008080; text-decoration-color: #008080\">0.97</span> │ <span style=\"color: #008080; text-decoration-color: #008080\">   1</span> │ <span style=\"color: #008080; text-decoration-color: #008080\">  0</span> │ <span style=\"color: #008080; text-decoration-color: #008080\">  0</span> │ <span style=\"color: #008080; text-decoration-color: #008080\">  2</span> │ <span style=\"color: #008080; text-decoration-color: #008080\">   3</span> │ <span style=\"color: #008000; text-decoration-color: #008000\">█ ▃ ▅▁</span> │  │\n",
       "│ │ <span style=\"color: #af87ff; text-decoration-color: #af87ff\">trestbps </span> │ <span style=\"color: #008080; text-decoration-color: #008080\">       0</span> │ <span style=\"color: #008080; text-decoration-color: #008080\">            1</span> │ <span style=\"color: #008080; text-decoration-color: #008080\"> 130</span> │ <span style=\"color: #008080; text-decoration-color: #008080\">  18</span> │ <span style=\"color: #008080; text-decoration-color: #008080\"> 94</span> │ <span style=\"color: #008080; text-decoration-color: #008080\">120</span> │ <span style=\"color: #008080; text-decoration-color: #008080\">140</span> │ <span style=\"color: #008080; text-decoration-color: #008080\"> 200</span> │ <span style=\"color: #008000; text-decoration-color: #008000\">▃▇█▃▁ </span> │  │\n",
       "│ │ <span style=\"color: #af87ff; text-decoration-color: #af87ff\">chol     </span> │ <span style=\"color: #008080; text-decoration-color: #008080\">       0</span> │ <span style=\"color: #008080; text-decoration-color: #008080\">            1</span> │ <span style=\"color: #008080; text-decoration-color: #008080\"> 250</span> │ <span style=\"color: #008080; text-decoration-color: #008080\">  52</span> │ <span style=\"color: #008080; text-decoration-color: #008080\">130</span> │ <span style=\"color: #008080; text-decoration-color: #008080\">210</span> │ <span style=\"color: #008080; text-decoration-color: #008080\">270</span> │ <span style=\"color: #008080; text-decoration-color: #008080\"> 560</span> │ <span style=\"color: #008000; text-decoration-color: #008000\"> ▂█▃  </span> │  │\n",
       "│ │ <span style=\"color: #af87ff; text-decoration-color: #af87ff\">fbs      </span> │ <span style=\"color: #008080; text-decoration-color: #008080\">       0</span> │ <span style=\"color: #008080; text-decoration-color: #008080\">            1</span> │ <span style=\"color: #008080; text-decoration-color: #008080\">0.15</span> │ <span style=\"color: #008080; text-decoration-color: #008080\">0.36</span> │ <span style=\"color: #008080; text-decoration-color: #008080\">  0</span> │ <span style=\"color: #008080; text-decoration-color: #008080\">  0</span> │ <span style=\"color: #008080; text-decoration-color: #008080\">  0</span> │ <span style=\"color: #008080; text-decoration-color: #008080\">   1</span> │ <span style=\"color: #008000; text-decoration-color: #008000\">█    ▁</span> │  │\n",
       "│ │ <span style=\"color: #af87ff; text-decoration-color: #af87ff\">restecg  </span> │ <span style=\"color: #008080; text-decoration-color: #008080\">       0</span> │ <span style=\"color: #008080; text-decoration-color: #008080\">            1</span> │ <span style=\"color: #008080; text-decoration-color: #008080\">0.53</span> │ <span style=\"color: #008080; text-decoration-color: #008080\">0.53</span> │ <span style=\"color: #008080; text-decoration-color: #008080\">  0</span> │ <span style=\"color: #008080; text-decoration-color: #008080\">  0</span> │ <span style=\"color: #008080; text-decoration-color: #008080\">  1</span> │ <span style=\"color: #008080; text-decoration-color: #008080\">   2</span> │ <span style=\"color: #008000; text-decoration-color: #008000\"> █  █ </span> │  │\n",
       "│ │ <span style=\"color: #af87ff; text-decoration-color: #af87ff\">thalach  </span> │ <span style=\"color: #008080; text-decoration-color: #008080\">       0</span> │ <span style=\"color: #008080; text-decoration-color: #008080\">            1</span> │ <span style=\"color: #008080; text-decoration-color: #008080\"> 150</span> │ <span style=\"color: #008080; text-decoration-color: #008080\">  23</span> │ <span style=\"color: #008080; text-decoration-color: #008080\"> 71</span> │ <span style=\"color: #008080; text-decoration-color: #008080\">130</span> │ <span style=\"color: #008080; text-decoration-color: #008080\">170</span> │ <span style=\"color: #008080; text-decoration-color: #008080\"> 200</span> │ <span style=\"color: #008000; text-decoration-color: #008000\"> ▂▄██▁</span> │  │\n",
       "│ │ <span style=\"color: #af87ff; text-decoration-color: #af87ff\">exang    </span> │ <span style=\"color: #008080; text-decoration-color: #008080\">       0</span> │ <span style=\"color: #008080; text-decoration-color: #008080\">            1</span> │ <span style=\"color: #008080; text-decoration-color: #008080\">0.33</span> │ <span style=\"color: #008080; text-decoration-color: #008080\">0.47</span> │ <span style=\"color: #008080; text-decoration-color: #008080\">  0</span> │ <span style=\"color: #008080; text-decoration-color: #008080\">  0</span> │ <span style=\"color: #008080; text-decoration-color: #008080\">  1</span> │ <span style=\"color: #008080; text-decoration-color: #008080\">   1</span> │ <span style=\"color: #008000; text-decoration-color: #008000\">█    ▄</span> │  │\n",
       "│ │ <span style=\"color: #af87ff; text-decoration-color: #af87ff\">oldpeak  </span> │ <span style=\"color: #008080; text-decoration-color: #008080\">       0</span> │ <span style=\"color: #008080; text-decoration-color: #008080\">            1</span> │ <span style=\"color: #008080; text-decoration-color: #008080\">   1</span> │ <span style=\"color: #008080; text-decoration-color: #008080\"> 1.2</span> │ <span style=\"color: #008080; text-decoration-color: #008080\">  0</span> │ <span style=\"color: #008080; text-decoration-color: #008080\">  0</span> │ <span style=\"color: #008080; text-decoration-color: #008080\">1.6</span> │ <span style=\"color: #008080; text-decoration-color: #008080\"> 6.2</span> │ <span style=\"color: #008000; text-decoration-color: #008000\"> █▃▁▁ </span> │  │\n",
       "│ │ <span style=\"color: #af87ff; text-decoration-color: #af87ff\">slope    </span> │ <span style=\"color: #008080; text-decoration-color: #008080\">       0</span> │ <span style=\"color: #008080; text-decoration-color: #008080\">            1</span> │ <span style=\"color: #008080; text-decoration-color: #008080\"> 1.4</span> │ <span style=\"color: #008080; text-decoration-color: #008080\">0.62</span> │ <span style=\"color: #008080; text-decoration-color: #008080\">  0</span> │ <span style=\"color: #008080; text-decoration-color: #008080\">  1</span> │ <span style=\"color: #008080; text-decoration-color: #008080\">  2</span> │ <span style=\"color: #008080; text-decoration-color: #008080\">   2</span> │ <span style=\"color: #008000; text-decoration-color: #008000\">▁  █ █</span> │  │\n",
       "│ │ <span style=\"color: #af87ff; text-decoration-color: #af87ff\">ca       </span> │ <span style=\"color: #008080; text-decoration-color: #008080\">       0</span> │ <span style=\"color: #008080; text-decoration-color: #008080\">            1</span> │ <span style=\"color: #008080; text-decoration-color: #008080\">0.73</span> │ <span style=\"color: #008080; text-decoration-color: #008080\">   1</span> │ <span style=\"color: #008080; text-decoration-color: #008080\">  0</span> │ <span style=\"color: #008080; text-decoration-color: #008080\">  0</span> │ <span style=\"color: #008080; text-decoration-color: #008080\">  1</span> │ <span style=\"color: #008080; text-decoration-color: #008080\">   4</span> │ <span style=\"color: #008000; text-decoration-color: #008000\">█▃ ▂▁ </span> │  │\n",
       "│ │ <span style=\"color: #af87ff; text-decoration-color: #af87ff\">thal     </span> │ <span style=\"color: #008080; text-decoration-color: #008080\">       0</span> │ <span style=\"color: #008080; text-decoration-color: #008080\">            1</span> │ <span style=\"color: #008080; text-decoration-color: #008080\"> 2.3</span> │ <span style=\"color: #008080; text-decoration-color: #008080\">0.61</span> │ <span style=\"color: #008080; text-decoration-color: #008080\">  0</span> │ <span style=\"color: #008080; text-decoration-color: #008080\">  2</span> │ <span style=\"color: #008080; text-decoration-color: #008080\">  3</span> │ <span style=\"color: #008080; text-decoration-color: #008080\">   3</span> │ <span style=\"color: #008000; text-decoration-color: #008000\">  ▁ █▆</span> │  │\n",
       "│ │ <span style=\"color: #af87ff; text-decoration-color: #af87ff\">target   </span> │ <span style=\"color: #008080; text-decoration-color: #008080\">       0</span> │ <span style=\"color: #008080; text-decoration-color: #008080\">            1</span> │ <span style=\"color: #008080; text-decoration-color: #008080\">0.54</span> │ <span style=\"color: #008080; text-decoration-color: #008080\"> 0.5</span> │ <span style=\"color: #008080; text-decoration-color: #008080\">  0</span> │ <span style=\"color: #008080; text-decoration-color: #008080\">  0</span> │ <span style=\"color: #008080; text-decoration-color: #008080\">  1</span> │ <span style=\"color: #008080; text-decoration-color: #008080\">   1</span> │ <span style=\"color: #008000; text-decoration-color: #008000\">▇    █</span> │  │\n",
       "│ └───────────┴──────────┴───────────────┴──────┴──────┴─────┴─────┴─────┴──────┴────────┘  │\n",
       "╰─────────────────────────────────────────── End ───────────────────────────────────────────╯\n",
       "</pre>\n"
      ],
      "text/plain": [
       "╭───────────────────────────────────── skimpy summary ──────────────────────────────────────╮\n",
       "│ \u001b[3m         Data Summary         \u001b[0m \u001b[3m      Data Types       \u001b[0m                                    │\n",
       "│ ┏━━━━━━━━━━━━━━━━━━━┳━━━━━━━━┓ ┏━━━━━━━━━━━━━┳━━━━━━━┓                                    │\n",
       "│ ┃\u001b[1;36m \u001b[0m\u001b[1;36mdataframe        \u001b[0m\u001b[1;36m \u001b[0m┃\u001b[1;36m \u001b[0m\u001b[1;36mValues\u001b[0m\u001b[1;36m \u001b[0m┃ ┃\u001b[1;36m \u001b[0m\u001b[1;36mColumn Type\u001b[0m\u001b[1;36m \u001b[0m┃\u001b[1;36m \u001b[0m\u001b[1;36mCount\u001b[0m\u001b[1;36m \u001b[0m┃                                    │\n",
       "│ ┡━━━━━━━━━━━━━━━━━━━╇━━━━━━━━┩ ┡━━━━━━━━━━━━━╇━━━━━━━┩                                    │\n",
       "│ │ Number of rows    │ 303    │ │ int64       │ 13    │                                    │\n",
       "│ │ Number of columns │ 14     │ │ float64     │ 1     │                                    │\n",
       "│ └───────────────────┴────────┘ └─────────────┴───────┘                                    │\n",
       "│ \u001b[3m                                         number                                         \u001b[0m  │\n",
       "│ ┏━━━━━━━━━━━┳━━━━━━━━━━┳━━━━━━━━━━━━━━━┳━━━━━━┳━━━━━━┳━━━━━┳━━━━━┳━━━━━┳━━━━━━┳━━━━━━━━┓  │\n",
       "│ ┃\u001b[1m \u001b[0m\u001b[1m         \u001b[0m\u001b[1m \u001b[0m┃\u001b[1m \u001b[0m\u001b[1mmissing \u001b[0m\u001b[1m \u001b[0m┃\u001b[1m \u001b[0m\u001b[1mcomplete rate\u001b[0m\u001b[1m \u001b[0m┃\u001b[1m \u001b[0m\u001b[1mmean\u001b[0m\u001b[1m \u001b[0m┃\u001b[1m \u001b[0m\u001b[1msd  \u001b[0m\u001b[1m \u001b[0m┃\u001b[1m \u001b[0m\u001b[1mp0 \u001b[0m\u001b[1m \u001b[0m┃\u001b[1m \u001b[0m\u001b[1mp25\u001b[0m\u001b[1m \u001b[0m┃\u001b[1m \u001b[0m\u001b[1mp75\u001b[0m\u001b[1m \u001b[0m┃\u001b[1m \u001b[0m\u001b[1mp100\u001b[0m\u001b[1m \u001b[0m┃\u001b[1m \u001b[0m\u001b[1mhist  \u001b[0m\u001b[1m \u001b[0m┃  │\n",
       "│ ┡━━━━━━━━━━━╇━━━━━━━━━━╇━━━━━━━━━━━━━━━╇━━━━━━╇━━━━━━╇━━━━━╇━━━━━╇━━━━━╇━━━━━━╇━━━━━━━━┩  │\n",
       "│ │ \u001b[38;5;141mage      \u001b[0m │ \u001b[36m       0\u001b[0m │ \u001b[36m            1\u001b[0m │ \u001b[36m  54\u001b[0m │ \u001b[36m 9.1\u001b[0m │ \u001b[36m 29\u001b[0m │ \u001b[36m 48\u001b[0m │ \u001b[36m 61\u001b[0m │ \u001b[36m  77\u001b[0m │ \u001b[32m▁▄▅█▅▁\u001b[0m │  │\n",
       "│ │ \u001b[38;5;141msex      \u001b[0m │ \u001b[36m       0\u001b[0m │ \u001b[36m            1\u001b[0m │ \u001b[36m0.68\u001b[0m │ \u001b[36m0.47\u001b[0m │ \u001b[36m  0\u001b[0m │ \u001b[36m  0\u001b[0m │ \u001b[36m  1\u001b[0m │ \u001b[36m   1\u001b[0m │ \u001b[32m▄    █\u001b[0m │  │\n",
       "│ │ \u001b[38;5;141mcp       \u001b[0m │ \u001b[36m       0\u001b[0m │ \u001b[36m            1\u001b[0m │ \u001b[36m0.97\u001b[0m │ \u001b[36m   1\u001b[0m │ \u001b[36m  0\u001b[0m │ \u001b[36m  0\u001b[0m │ \u001b[36m  2\u001b[0m │ \u001b[36m   3\u001b[0m │ \u001b[32m█ ▃ ▅▁\u001b[0m │  │\n",
       "│ │ \u001b[38;5;141mtrestbps \u001b[0m │ \u001b[36m       0\u001b[0m │ \u001b[36m            1\u001b[0m │ \u001b[36m 130\u001b[0m │ \u001b[36m  18\u001b[0m │ \u001b[36m 94\u001b[0m │ \u001b[36m120\u001b[0m │ \u001b[36m140\u001b[0m │ \u001b[36m 200\u001b[0m │ \u001b[32m▃▇█▃▁ \u001b[0m │  │\n",
       "│ │ \u001b[38;5;141mchol     \u001b[0m │ \u001b[36m       0\u001b[0m │ \u001b[36m            1\u001b[0m │ \u001b[36m 250\u001b[0m │ \u001b[36m  52\u001b[0m │ \u001b[36m130\u001b[0m │ \u001b[36m210\u001b[0m │ \u001b[36m270\u001b[0m │ \u001b[36m 560\u001b[0m │ \u001b[32m ▂█▃  \u001b[0m │  │\n",
       "│ │ \u001b[38;5;141mfbs      \u001b[0m │ \u001b[36m       0\u001b[0m │ \u001b[36m            1\u001b[0m │ \u001b[36m0.15\u001b[0m │ \u001b[36m0.36\u001b[0m │ \u001b[36m  0\u001b[0m │ \u001b[36m  0\u001b[0m │ \u001b[36m  0\u001b[0m │ \u001b[36m   1\u001b[0m │ \u001b[32m█    ▁\u001b[0m │  │\n",
       "│ │ \u001b[38;5;141mrestecg  \u001b[0m │ \u001b[36m       0\u001b[0m │ \u001b[36m            1\u001b[0m │ \u001b[36m0.53\u001b[0m │ \u001b[36m0.53\u001b[0m │ \u001b[36m  0\u001b[0m │ \u001b[36m  0\u001b[0m │ \u001b[36m  1\u001b[0m │ \u001b[36m   2\u001b[0m │ \u001b[32m █  █ \u001b[0m │  │\n",
       "│ │ \u001b[38;5;141mthalach  \u001b[0m │ \u001b[36m       0\u001b[0m │ \u001b[36m            1\u001b[0m │ \u001b[36m 150\u001b[0m │ \u001b[36m  23\u001b[0m │ \u001b[36m 71\u001b[0m │ \u001b[36m130\u001b[0m │ \u001b[36m170\u001b[0m │ \u001b[36m 200\u001b[0m │ \u001b[32m ▂▄██▁\u001b[0m │  │\n",
       "│ │ \u001b[38;5;141mexang    \u001b[0m │ \u001b[36m       0\u001b[0m │ \u001b[36m            1\u001b[0m │ \u001b[36m0.33\u001b[0m │ \u001b[36m0.47\u001b[0m │ \u001b[36m  0\u001b[0m │ \u001b[36m  0\u001b[0m │ \u001b[36m  1\u001b[0m │ \u001b[36m   1\u001b[0m │ \u001b[32m█    ▄\u001b[0m │  │\n",
       "│ │ \u001b[38;5;141moldpeak  \u001b[0m │ \u001b[36m       0\u001b[0m │ \u001b[36m            1\u001b[0m │ \u001b[36m   1\u001b[0m │ \u001b[36m 1.2\u001b[0m │ \u001b[36m  0\u001b[0m │ \u001b[36m  0\u001b[0m │ \u001b[36m1.6\u001b[0m │ \u001b[36m 6.2\u001b[0m │ \u001b[32m █▃▁▁ \u001b[0m │  │\n",
       "│ │ \u001b[38;5;141mslope    \u001b[0m │ \u001b[36m       0\u001b[0m │ \u001b[36m            1\u001b[0m │ \u001b[36m 1.4\u001b[0m │ \u001b[36m0.62\u001b[0m │ \u001b[36m  0\u001b[0m │ \u001b[36m  1\u001b[0m │ \u001b[36m  2\u001b[0m │ \u001b[36m   2\u001b[0m │ \u001b[32m▁  █ █\u001b[0m │  │\n",
       "│ │ \u001b[38;5;141mca       \u001b[0m │ \u001b[36m       0\u001b[0m │ \u001b[36m            1\u001b[0m │ \u001b[36m0.73\u001b[0m │ \u001b[36m   1\u001b[0m │ \u001b[36m  0\u001b[0m │ \u001b[36m  0\u001b[0m │ \u001b[36m  1\u001b[0m │ \u001b[36m   4\u001b[0m │ \u001b[32m█▃ ▂▁ \u001b[0m │  │\n",
       "│ │ \u001b[38;5;141mthal     \u001b[0m │ \u001b[36m       0\u001b[0m │ \u001b[36m            1\u001b[0m │ \u001b[36m 2.3\u001b[0m │ \u001b[36m0.61\u001b[0m │ \u001b[36m  0\u001b[0m │ \u001b[36m  2\u001b[0m │ \u001b[36m  3\u001b[0m │ \u001b[36m   3\u001b[0m │ \u001b[32m  ▁ █▆\u001b[0m │  │\n",
       "│ │ \u001b[38;5;141mtarget   \u001b[0m │ \u001b[36m       0\u001b[0m │ \u001b[36m            1\u001b[0m │ \u001b[36m0.54\u001b[0m │ \u001b[36m 0.5\u001b[0m │ \u001b[36m  0\u001b[0m │ \u001b[36m  0\u001b[0m │ \u001b[36m  1\u001b[0m │ \u001b[36m   1\u001b[0m │ \u001b[32m▇    █\u001b[0m │  │\n",
       "│ └───────────┴──────────┴───────────────┴──────┴──────┴─────┴─────┴─────┴──────┴────────┘  │\n",
       "╰─────────────────────────────────────────── End ───────────────────────────────────────────╯\n"
      ]
     },
     "metadata": {},
     "output_type": "display_data"
    }
   ],
   "source": [
    "skim(df)"
   ]
  },
  {
   "cell_type": "code",
   "execution_count": 7,
   "id": "783467d5-f800-4c58-a630-319efa5214c2",
   "metadata": {},
   "outputs": [
    {
     "data": {
      "text/plain": [
       "0.5445544554455446"
      ]
     },
     "execution_count": 7,
     "metadata": {},
     "output_type": "execute_result"
    }
   ],
   "source": [
    "# Base Line Accuracy\n",
    "df.loc[:, 'target'].value_counts(normalize=True).max()"
   ]
  },
  {
   "cell_type": "code",
   "execution_count": 8,
   "id": "f4cd754f-d642-4ade-a7ca-c8bccaf4d40b",
   "metadata": {},
   "outputs": [],
   "source": [
    "transformer = ColumnTransformer([\n",
    "    (\"ohe\", OneHotEncoder(), [\"sex\", \"cp\", \"restecg\", \"slope\", \"thal\"]),\n",
    "    (\"scaler\", StandardScaler(), [\"age\", \"trestbps\", \"chol\", \"thalach\", \"oldpeak\", \"ca\"])\n",
    "], n_jobs=N_JOBS, remainder='passthrough')"
   ]
  },
  {
   "cell_type": "code",
   "execution_count": 9,
   "id": "e2d650d5-d1fb-4592-875a-658025c82c3b",
   "metadata": {},
   "outputs": [],
   "source": [
    "X = transformer.fit_transform(df.iloc[:, :-1])"
   ]
  },
  {
   "cell_type": "code",
   "execution_count": 10,
   "id": "c51b523e-0a16-4ecb-b9d8-fdbecde29a80",
   "metadata": {},
   "outputs": [],
   "source": [
    "clf = XGBClassifier(n_jobs=N_JOBS)"
   ]
  },
  {
   "cell_type": "code",
   "execution_count": 11,
   "id": "2486f89b-f0b3-4a83-b23c-6e69f61c7770",
   "metadata": {},
   "outputs": [],
   "source": [
    "params = {\"n_estimators\": range(1, 50),\n",
    "          \"max_depth\": range(1, 64),\n",
    "          \"learning_rate\": np.linspace(0, 10, 100),\n",
    "          \"gamma\": np.linspace(0, 10, 100),\n",
    "          \"subsample\": np.linspace(0, 1, 100),\n",
    "          \"colsample_bytree\": np.linspace(0, 1, 100),\n",
    "          \"colsample_bylevel\": np.linspace(0, 1, 100),\n",
    "          \"colsample_bynode\": np.linspace(0, 1, 100),\n",
    "          \"lambda\": np.logspace(0, 2, 10)}"
   ]
  },
  {
   "cell_type": "code",
   "execution_count": 12,
   "id": "d9399abf-1d75-483b-b1d3-edd06a288328",
   "metadata": {},
   "outputs": [],
   "source": [
    "CV = 10"
   ]
  },
  {
   "cell_type": "code",
   "execution_count": 13,
   "id": "942b5500-e1ff-4fb0-ac31-c90b922b7004",
   "metadata": {},
   "outputs": [],
   "source": [
    "skf = StratifiedKFold(n_splits=CV, shuffle=True)"
   ]
  },
  {
   "cell_type": "code",
   "execution_count": 14,
   "id": "162d8b15-d105-4e1a-ac97-263a83eac92f",
   "metadata": {},
   "outputs": [],
   "source": [
    "N_ITER = 1_000"
   ]
  },
  {
   "cell_type": "code",
   "execution_count": 15,
   "id": "3b4f3141-2d1a-4a80-90e4-6ae05a817870",
   "metadata": {},
   "outputs": [],
   "source": [
    "grid = RandomizedSearchCV(clf, params, n_iter=N_ITER, scoring=\"accuracy\", n_jobs=N_JOBS, cv=skf)"
   ]
  },
  {
   "cell_type": "code",
   "execution_count": 16,
   "id": "a074df6b-c743-49da-9b90-a7181fc60b0b",
   "metadata": {},
   "outputs": [],
   "source": [
    "_ = grid.fit(X, df.loc[:, 'target'])"
   ]
  },
  {
   "cell_type": "code",
   "execution_count": 17,
   "id": "b2d306ee-3842-45e2-bf02-67fdefe51901",
   "metadata": {},
   "outputs": [
    {
     "data": {
      "text/plain": [
       "(0.8579569892473119,\n",
       " {'subsample': 0.5656565656565657,\n",
       "  'n_estimators': 36,\n",
       "  'max_depth': 45,\n",
       "  'learning_rate': 0.20202020202020202,\n",
       "  'lambda': 4.641588833612778,\n",
       "  'gamma': 1.7171717171717171,\n",
       "  'colsample_bytree': 0.5656565656565657,\n",
       "  'colsample_bynode': 0.06060606060606061,\n",
       "  'colsample_bylevel': 0.9191919191919192})"
      ]
     },
     "execution_count": 17,
     "metadata": {},
     "output_type": "execute_result"
    }
   ],
   "source": [
    "grid.best_score_, grid.best_params_"
   ]
  },
  {
   "cell_type": "code",
   "execution_count": 18,
   "id": "87ce6026-f8be-439f-b0af-f3a08a4cb270",
   "metadata": {},
   "outputs": [],
   "source": [
    "X_train, X_test, y_train, y_test = train_test_split(X, df.loc[:, 'target'], stratify=df.loc[:, 'target'])"
   ]
  },
  {
   "cell_type": "code",
   "execution_count": 23,
   "id": "a405cd76-f17a-4988-bd11-a91b840a190f",
   "metadata": {},
   "outputs": [],
   "source": [
    "clf = XGBClassifier(**grid.best_params_)"
   ]
  },
  {
   "cell_type": "code",
   "execution_count": 24,
   "id": "2cb0e79a-0077-4d9e-9ed7-17d11345b12e",
   "metadata": {},
   "outputs": [
    {
     "name": "stdout",
     "output_type": "stream",
     "text": [
      "Accuracy: 81.58% F1: 81.58% AUC: 82.09%\n"
     ]
    }
   ],
   "source": [
    "# Train\n",
    "clf.fit(X_train, y_train)\n",
    "# Predict\n",
    "y_pred = clf.predict(X_test)\n",
    "# Scores\n",
    "acc_score = accuracy_score(y_test, y_pred)\n",
    "f_score = f1_score(y_test, y_pred)\n",
    "auc_score = roc_auc_score(y_test, y_pred)\n",
    "# Show\n",
    "print(f'Accuracy: {acc_score:.2%} F1: {f_score:.2%} AUC: {auc_score:.2%}')"
   ]
  }
 ],
 "metadata": {
  "kernelspec": {
   "display_name": "Python 3",
   "language": "python",
   "name": "python3"
  },
  "language_info": {
   "codemirror_mode": {
    "name": "ipython",
    "version": 3
   },
   "file_extension": ".py",
   "mimetype": "text/x-python",
   "name": "python",
   "nbconvert_exporter": "python",
   "pygments_lexer": "ipython3",
   "version": "3.10.4"
  }
 },
 "nbformat": 4,
 "nbformat_minor": 5
}
