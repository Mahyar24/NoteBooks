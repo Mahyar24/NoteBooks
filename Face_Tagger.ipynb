{
 "cells": [
  {
   "cell_type": "code",
   "execution_count": 1,
   "id": "c16fb570-80c0-49ea-9fd0-e314eb4b5e81",
   "metadata": {},
   "outputs": [],
   "source": [
    "import pathlib\n",
    "import pickle \n",
    "import time\n",
    "from typing import Union\n",
    "\n",
    "\n",
    "import numpy as np\n",
    "import pandas as pd"
   ]
  },
  {
   "cell_type": "code",
   "execution_count": 72,
   "id": "4dfaa55c-ef11-49eb-af05-6ec8096e19be",
   "metadata": {},
   "outputs": [],
   "source": [
    "def pretty_time(sec: int) -> str:\n",
    "    return time.strftime(\"%H:%M:%S\", time.gmtime(sec))\n",
    "\n",
    "\n",
    "def make_df(data: np.ndarray, cols: list[str]) -> pd.DataFrame:\n",
    "    return pd.DataFrame(data, columns=cols)\n",
    "\n",
    "\n",
    "def generate_time_intervals(\n",
    "    series: pd.Series, rolling_window: int = 5, threshold: int = 2, pretty: bool = True\n",
    ") -> list[Union[tuple[str, str], tuple[int, int]]]:\n",
    "    assert rolling_window >= threshold, \"rolling_window must be greater than threshold\"\n",
    "\n",
    "    return (\n",
    "        series.rolling(rolling_window, center=True)\n",
    "        .sum()[lambda x: x >= threshold]\n",
    "        .index.to_series()\n",
    "        .pipe(\n",
    "            lambda ser_: ser_.groupby(ser_.diff().ne(1).cumsum()).agg([\"first\", \"last\"])\n",
    "        )\n",
    "        .loc[lambda df_: (df_[\"last\"] - df_[\"first\"]) >= rolling_window]\n",
    "        .apply(\n",
    "            {\n",
    "                \"first\": lambda x: max(0, x - rolling_window - threshold),\n",
    "                \"last\": lambda x: max(0, x + rolling_window + threshold),\n",
    "            }\n",
    "        )\n",
    "        .applymap(pretty_time if pretty else lambda x: x)\n",
    "        .apply(tuple, 1)\n",
    "        .tolist()\n",
    "    )\n",
    "\n",
    "\n",
    "def generate_json(\n",
    "    file: pathlib.Path,\n",
    "    data: np.ndarray,\n",
    "    cols: list[str],\n",
    "    rolling_window: int = 5,\n",
    "    threshold: int = 2,\n",
    "    pretty: bool = True,\n",
    ") -> None:\n",
    "    (\n",
    "        make_df(data, cols)\n",
    "        .apply(\n",
    "            lambda ser: generate_time_intervals(ser, rolling_window, threshold, pretty)\n",
    "        )\n",
    "        .to_json(file, indent=4),\n",
    "    )\n"
   ]
  },
  {
   "cell_type": "code",
   "execution_count": 3,
   "id": "1f16be23-ec49-4ca3-b4e7-0a16e860d887",
   "metadata": {},
   "outputs": [],
   "source": [
    "json_file = pathlib.Path('/home/mahyar/test/result_new.json')\n",
    "data_file = np.load('/home/mahyar/test/arr.np')\n",
    "with open('/home/mahyar/test/PICS.PICKLE', 'rb') as f:\n",
    "    pics = pickle.load(f)\n",
    "cols = list(pics.keys())"
   ]
  },
  {
   "cell_type": "code",
   "execution_count": 22,
   "id": "746b64e0-2555-492f-9b07-b6a32efe04d6",
   "metadata": {},
   "outputs": [],
   "source": [
    "generate_json(json_file, data_file, cols, pretty=True)"
   ]
  },
  {
   "cell_type": "code",
   "execution_count": 73,
   "id": "aa06c7d9-c610-46c4-940a-092f380edda0",
   "metadata": {},
   "outputs": [
    {
     "data": {
      "text/plain": [
       "[('00:04:53', '00:05:25'),\n",
       " ('00:05:19', '00:05:43'),\n",
       " ('00:08:59', '00:09:18'),\n",
       " ('00:16:55', '00:17:16'),\n",
       " ('00:21:28', '00:21:47'),\n",
       " ('00:34:13', '00:34:51'),\n",
       " ('00:37:05', '00:37:27'),\n",
       " ('00:37:35', '00:37:56'),\n",
       " ('00:42:28', '00:42:51'),\n",
       " ('00:47:11', '00:47:31'),\n",
       " ('00:47:22', '00:47:41')]"
      ]
     },
     "execution_count": 73,
     "metadata": {},
     "output_type": "execute_result"
    }
   ],
   "source": [
    "generate_time_intervals(make_df(data_file, cols).iloc[:, 1])"
   ]
  },
  {
   "cell_type": "code",
   "execution_count": 60,
   "id": "9fd2b03a-916b-4f8c-805f-2cc5a882a7f1",
   "metadata": {},
   "outputs": [
    {
     "data": {
      "text/plain": [
       "22      NaN\n",
       "301     NaN\n",
       "302     NaN\n",
       "303     NaN\n",
       "304     5.0\n",
       "305     5.0\n",
       "306     5.0\n",
       "307     5.0\n",
       "308     5.0\n",
       "309     5.0\n",
       "310     5.0\n",
       "311     5.0\n",
       "314     5.0\n",
       "315     5.0\n",
       "316     5.0\n",
       "317     5.0\n",
       "327     5.0\n",
       "328     5.0\n",
       "330     5.0\n",
       "333     5.0\n",
       "334     5.0\n",
       "336     5.0\n",
       "378     5.0\n",
       "379     5.0\n",
       "547     5.0\n",
       "548     5.0\n",
       "549     5.0\n",
       "550     5.0\n",
       "559     5.0\n",
       "560     5.0\n",
       "561     5.0\n",
       "566     5.0\n",
       "698     5.0\n",
       "798     5.0\n",
       "910     5.0\n",
       "1023    5.0\n",
       "1024    5.0\n",
       "1025    5.0\n",
       "1026    5.0\n",
       "1027    5.0\n",
       "1028    5.0\n",
       "1204    5.0\n",
       "1230    5.0\n",
       "1295    5.0\n",
       "1297    5.0\n",
       "1298    5.0\n",
       "1299    5.0\n",
       "1757    5.0\n",
       "1767    5.0\n",
       "1768    5.0\n",
       "Name: Hoseyn Alaei, dtype: float64"
      ]
     },
     "execution_count": 60,
     "metadata": {},
     "output_type": "execute_result"
    }
   ],
   "source": [
    "make_df(data_file, cols).iloc[:, 1].loc[lambda x: x][:50].rolling(5).sum()"
   ]
  },
  {
   "cell_type": "code",
   "execution_count": null,
   "id": "7c7c7ac2-e516-4df3-bfd3-74c000270a46",
   "metadata": {},
   "outputs": [],
   "source": []
  }
 ],
 "metadata": {
  "kernelspec": {
   "display_name": "Python 3",
   "language": "python",
   "name": "python3"
  },
  "language_info": {
   "codemirror_mode": {
    "name": "ipython",
    "version": 3
   },
   "file_extension": ".py",
   "mimetype": "text/x-python",
   "name": "python",
   "nbconvert_exporter": "python",
   "pygments_lexer": "ipython3",
   "version": "3.10.5"
  }
 },
 "nbformat": 4,
 "nbformat_minor": 5
}
