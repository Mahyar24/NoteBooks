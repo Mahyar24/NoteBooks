{
 "cells": [
  {
   "cell_type": "code",
   "execution_count": 1,
   "id": "e823a088-b4fc-4620-a0da-e932d055323c",
   "metadata": {},
   "outputs": [],
   "source": [
    "import string\n",
    "\n",
    "import numpy as np\n",
    "\n",
    "from scipy import stats"
   ]
  },
  {
   "cell_type": "code",
   "execution_count": 2,
   "id": "38baad98-cb7f-4156-b348-4bd923595873",
   "metadata": {},
   "outputs": [],
   "source": [
    "class CONF:\n",
    "    POPULATION_SIZE = 250\n",
    "    GENES = string.ascii_letters + string.digits + ' '\n",
    "    TARGET = \"GENETIC ALGORITHM\"\n",
    "    PROB_CHILD = [0.45, 0.45, 0.10]\n",
    "    PROB_BEST_PARENTS = 0.1"
   ]
  },
  {
   "cell_type": "code",
   "execution_count": 3,
   "id": "238581eb-0865-40f1-a287-578cafa1439d",
   "metadata": {},
   "outputs": [],
   "source": [
    "class GA:\n",
    "    def __init__(self, genes, target, prob, prob_best_parents, population_size):\n",
    "        self.genes = np.array(list(genes))\n",
    "        self.target = np.array(list(target))\n",
    "        self.prob = np.array(prob)\n",
    "        self.prob_best_parents = prob_best_parents\n",
    "        self.population_size = population_size\n",
    "        self.population = self.mutate(size=(population_size, self.target.shape[0]))\n",
    "    \n",
    "    def mutate(self, size=1):\n",
    "        return np.random.choice(self.genes, size=size)\n",
    "    \n",
    "    def fitness(self):\n",
    "        return (self.population != self.target).sum(axis=1).argsort()\n",
    "    \n",
    "    def mate(self, father, mother):\n",
    "        child = np.empty_like(self.target)\n",
    "        for i in range(child.shape[0]):\n",
    "            child[i] = np.random.choice([father[i], mother[i], self.mutate().item()], p=self.prob, size=1).item()\n",
    "        return child\n",
    "    \n",
    "    def choose_parents(self):\n",
    "        best_parents = self.population[self.fitness()][:int(self.prob_best_parents * self.population_size)]\n",
    "        indexes = np.random.choice(range(best_parents.shape[0]), size=2, replace=False)\n",
    "        return best_parents[indexes]\n",
    "    \n",
    "    def search(self):\n",
    "        generation = 0\n",
    "        while True:\n",
    "            for i in range(self.population_size):\n",
    "                father, mother = self.choose_parents()\n",
    "                child = self.mate(father, mother)\n",
    "                if np.array_equal(self.target, child):\n",
    "                    print(f\"Found it! '{''.join(child)} in {generation=}'\")\n",
    "                    return child, generation\n",
    "                self.population[i] = child\n",
    "            generation += 1\n",
    "            print(f'{generation=}, Mode: \"{\"\".join(stats.mode(self.population)[0][0])}\"')"
   ]
  },
  {
   "cell_type": "code",
   "execution_count": 5,
   "id": "2015e648-e555-41ed-a9d3-8d81b547c391",
   "metadata": {},
   "outputs": [],
   "source": [
    "ga = GA(CONF.GENES, CONF.TARGET, CONF.PROB_CHILD, CONF.PROB_BEST_PARENTS, CONF.POPULATION_SIZE);"
   ]
  },
  {
   "cell_type": "code",
   "execution_count": 6,
   "id": "056eb492-2e34-4ecb-a411-3a0abe4020b4",
   "metadata": {},
   "outputs": [
    {
     "name": "stdout",
     "output_type": "stream",
     "text": [
      "generation=1, Mode: \"bENpTIm 3pGwAJDKM\"\n",
      "generation=2, Mode: \"GENETIm jsGyWJDKM\"\n",
      "generation=3, Mode: \"GENETIt 3LGyWITKM\"\n",
      "generation=4, Mode: \"GENETIC jLGyWITKM\"\n",
      "generation=5, Mode: \"GENETIC jLGyRITHM\"\n",
      "generation=6, Mode: \"GENETIC jLGGRITHM\"\n",
      "generation=7, Mode: \"GENETIC jLGGRITHM\"\n",
      "generation=8, Mode: \"GENETIC PLGGRITHM\"\n",
      "generation=9, Mode: \"GENETIC PLGkRITHM\"\n",
      "generation=10, Mode: \"GENETIC OLGORITHM\"\n",
      "generation=11, Mode: \"GENETIC OLGORITHM\"\n",
      "generation=12, Mode: \"GENETIC OLGORITHM\"\n",
      "generation=13, Mode: \"GENETIC dLGORITHM\"\n",
      "Found it! 'GENETIC ALGORITHM in generation=13'\n"
     ]
    }
   ],
   "source": [
    "ga.search();"
   ]
  },
  {
   "cell_type": "code",
   "execution_count": null,
   "id": "2d097262-b9e4-435d-942d-1b028e0dd3a7",
   "metadata": {},
   "outputs": [],
   "source": []
  }
 ],
 "metadata": {
  "kernelspec": {
   "display_name": "Python 3",
   "language": "python",
   "name": "python3"
  },
  "language_info": {
   "codemirror_mode": {
    "name": "ipython",
    "version": 3
   },
   "file_extension": ".py",
   "mimetype": "text/x-python",
   "name": "python",
   "nbconvert_exporter": "python",
   "pygments_lexer": "ipython3",
   "version": "3.10.5"
  }
 },
 "nbformat": 4,
 "nbformat_minor": 5
}
