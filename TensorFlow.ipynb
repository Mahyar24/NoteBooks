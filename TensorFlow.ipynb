{
 "cells": [
  {
   "cell_type": "code",
   "execution_count": 1,
   "id": "1369e057-fcc5-43b3-a0fc-0ed4d2e0281b",
   "metadata": {},
   "outputs": [
    {
     "name": "stderr",
     "output_type": "stream",
     "text": [
      "2022-05-23 14:46:09.965535: W tensorflow/stream_executor/platform/default/dso_loader.cc:64] Could not load dynamic library 'libcudart.so.11.0'; dlerror: libcudart.so.11.0: cannot open shared object file: No such file or directory\n",
      "2022-05-23 14:46:09.965559: I tensorflow/stream_executor/cuda/cudart_stub.cc:29] Ignore above cudart dlerror if you do not have a GPU set up on your machine.\n"
     ]
    }
   ],
   "source": [
    "import tensorflow as tf\n",
    "import keras_tuner as kt\n",
    "from tensorflow import keras\n",
    "\n",
    "from nnfs.datasets import spiral_data"
   ]
  },
  {
   "cell_type": "code",
   "execution_count": 40,
   "id": "b0f5b08c-d6ff-4eb4-97c6-5e1794238f31",
   "metadata": {},
   "outputs": [],
   "source": [
    "(X_train, y_train), (X_test, y_test) = spiral_data(samples=5000, classes=3), spiral_data(samples=500, classes=3)\n",
    "y_train = y_train.reshape(-1, 1)\n",
    "y_test = y_test.reshape(-1, 1)"
   ]
  },
  {
   "cell_type": "code",
   "execution_count": 67,
   "id": "81cc8a5d-40d8-4738-8775-83a31220497e",
   "metadata": {},
   "outputs": [],
   "source": [
    "def hyper_model(hp):\n",
    "    units = hp.Int(name=\"units_layer_1\", min_value=16, max_value=512, step=16)\n",
    "    \n",
    "    inputs = keras.Input(shape=(2, ))\n",
    "    x = keras.layers.Dense(units, activation=\"relu\", \n",
    "                           kernel_regularizer=keras.regularizers.L2(5e-4), \n",
    "                           bias_regularizer=keras.regularizers.L2(5e-4))(inputs)\n",
    "    x = keras.layers.Dense(units, activation=\"relu\", \n",
    "                           kernel_regularizer=keras.regularizers.L2(5e-4), \n",
    "                           bias_regularizer=keras.regularizers.L2(5e-4))(x)\n",
    "    x = keras.layers.Dense(3, activation=\"softmax\")(x)\n",
    "    model = keras.Model(inputs, x)\n",
    "    model.compile(optimizer=keras.optimizers.Adam(learning_rate=0.1), loss=\"sparse_categorical_crossentropy\", metrics=[\"accuracy\"])\n",
    "    return model"
   ]
  },
  {
   "cell_type": "code",
   "execution_count": 69,
   "id": "c259c69b-123d-4ec9-b5bb-019bf0d1f6ab",
   "metadata": {},
   "outputs": [],
   "source": [
    "tuner = kt.BayesianOptimization(\n",
    "    hyper_model,\n",
    "    objective=\"val_accuracy\",\n",
    "    max_trials=10,\n",
    "    overwrite=True\n",
    ")"
   ]
  },
  {
   "cell_type": "code",
   "execution_count": 70,
   "id": "24fd7320-21b8-40f9-ac19-39f048190c75",
   "metadata": {},
   "outputs": [
    {
     "name": "stdout",
     "output_type": "stream",
     "text": [
      "Trial 10 Complete [00h 00m 12s]\n",
      "val_accuracy: 0.8939999938011169\n",
      "\n",
      "Best val_accuracy So Far: 0.9013333320617676\n",
      "Total elapsed time: 00h 02m 55s\n",
      "INFO:tensorflow:Oracle triggered exit\n"
     ]
    }
   ],
   "source": [
    "tuner.search(X_train, y_train, batch_size=512, epochs=100, validation_data=(X_test, y_test))"
   ]
  },
  {
   "cell_type": "code",
   "execution_count": 71,
   "id": "bee3407d-e53f-4758-a8ed-44eec3b1baa9",
   "metadata": {},
   "outputs": [],
   "source": [
    "model = tuner.get_best_models()"
   ]
  }
 ],
 "metadata": {
  "kernelspec": {
   "display_name": "Python 3",
   "language": "python",
   "name": "python3"
  },
  "language_info": {
   "codemirror_mode": {
    "name": "ipython",
    "version": 3
   },
   "file_extension": ".py",
   "mimetype": "text/x-python",
   "name": "python",
   "nbconvert_exporter": "python",
   "pygments_lexer": "ipython3",
   "version": "3.10.4"
  }
 },
 "nbformat": 4,
 "nbformat_minor": 5
}
